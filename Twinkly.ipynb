{
 "cells": [
  {
   "cell_type": "code",
   "execution_count": null,
   "id": "63590783",
   "metadata": {},
   "outputs": [],
   "source": [
    "import xled\n",
    "import io"
   ]
  },
  {
   "cell_type": "code",
   "execution_count": null,
   "id": "d8bd5606",
   "metadata": {},
   "outputs": [],
   "source": [
    "discovered_devices = xled.discover.xdiscover(timeout=3)"
   ]
  },
  {
   "cell_type": "code",
   "execution_count": null,
   "id": "e7f3f012",
   "metadata": {},
   "outputs": [],
   "source": [
    "devices = []\n",
    "next_device = next(discovered_devices, None)\n",
    "while next_device is not None:\n",
    "    print(next_device)\n",
    "    devices.append(next_device)\n",
    "    try:\n",
    "        next_device = next(discovered_devices, None)\n",
    "    except:\n",
    "        next_device = None"
   ]
  },
  {
   "cell_type": "code",
   "execution_count": null,
   "id": "b41a7adc",
   "metadata": {},
   "outputs": [],
   "source": [
    "devices"
   ]
  },
  {
   "cell_type": "code",
   "execution_count": null,
   "id": "3d8d6657",
   "metadata": {},
   "outputs": [],
   "source": [
    "tree_lights = []\n",
    "bush_lights = []\n",
    "for device in devices:\n",
    "    control = xled.ControlInterface(device.ip_address, device.hw_address)\n",
    "    led_count = control.get_device_info().data['number_of_led']\n",
    "    if led_count == 600:\n",
    "        tree_lights.append(device)\n",
    "    else:\n",
    "        bush_lights.append(device)"
   ]
  },
  {
   "cell_type": "code",
   "execution_count": null,
   "id": "e93c0ca9",
   "metadata": {},
   "outputs": [],
   "source": [
    "tree_lights"
   ]
  },
  {
   "cell_type": "code",
   "execution_count": null,
   "id": "00daf6a8",
   "metadata": {},
   "outputs": [],
   "source": [
    "for device in tree_lights:\n",
    "    control = xled.ControlInterface(device.ip_address, device.hw_address)\n",
    "    print(control.get_movies().data)"
   ]
  },
  {
   "cell_type": "code",
   "execution_count": null,
   "id": "559e205e",
   "metadata": {},
   "outputs": [],
   "source": [
    "# Hightlight just the ends\n",
    "\n",
    "for device in tree_lights:\n",
    "    control = xled.ControlInterface(device.ip_address, device.hw_address)\n",
    "    with io.BytesIO() as output:\n",
    "        xled.HighControlInterface.write_static_movie(output, 299, 0, 0, 0)\n",
    "        xled.HighControlInterface.write_static_movie(output, 1, 255, 255, 255)\n",
    "        xled.HighControlInterface.write_static_movie(output, 299, 0, 0, 0)\n",
    "        xled.HighControlInterface.write_static_movie(output, 1, 255, 255, 255)\n",
    "        control.led_reset()\n",
    "        output.seek(0)\n",
    "        # control.set_movies_new('Testing', 1, 'rgb_raw', 600, 1, 1)\n",
    "        # control.set_movies_full(output)\n",
    "        control.set_led_movie_full(output)\n",
    "        control.set_led_movie_config(1, 1, 600)"
   ]
  },
  {
   "cell_type": "code",
   "execution_count": null,
   "id": "01516797",
   "metadata": {},
   "outputs": [],
   "source": [
    "for device in tree_lights:\n",
    "    control = xled.ControlInterface(device.ip_address, device.hw_address)\n",
    "    print(control.get_movies().data)"
   ]
  },
  {
   "cell_type": "code",
   "execution_count": null,
   "id": "b3a168bf",
   "metadata": {},
   "outputs": [],
   "source": []
  }
 ],
 "metadata": {
  "kernelspec": {
   "display_name": "Python 3 (ipykernel)",
   "language": "python",
   "name": "python3"
  },
  "language_info": {
   "codemirror_mode": {
    "name": "ipython",
    "version": 3
   },
   "file_extension": ".py",
   "mimetype": "text/x-python",
   "name": "python",
   "nbconvert_exporter": "python",
   "pygments_lexer": "ipython3",
   "version": "3.9.16"
  }
 },
 "nbformat": 4,
 "nbformat_minor": 5
}
